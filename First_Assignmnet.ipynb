{
  "nbformat": 4,
  "nbformat_minor": 0,
  "metadata": {
    "colab": {
      "provenance": []
    },
    "kernelspec": {
      "name": "python3",
      "display_name": "Python 3"
    },
    "language_info": {
      "name": "python"
    }
  },
  "cells": [
    {
      "cell_type": "markdown",
      "source": [
        "#Assignment\n",
        "1. **Explain the main components of client-server architecture and their functions ?**\n",
        "- **Client**: Any computer that makes a request to the server is a client. For instance, when we visit a website, we ask for the page from its domain. So, in this case, we play the client.\n",
        "- **Server**: On the other hand, the server is the computer created to fulfill client requests. In the same scenario as earlier, the client queries the server for the web page, which is subsequently returned to them by the server.\n",
        "- **Client/Serve**r architecture places several components into clearly defined roles that allow them to communicate. The majority of the resources and services for client consumption are hosted, delivered, and managed by the server\n",
        "\n",
        "2. **Discuss the various career paths available after completing a web development cours ?**\n",
        "- After completing a web development course, you can pursue a variety of careers, including\n",
        "      1.   Front-End\n",
        "      2.   Back-End\n",
        "      3.   UI/UX Designer and also you got Front-End and Back-End mens full Stact developeer job.\n",
        "3. **Describe the role of a web browser's developer tools in web development ?**\n",
        "- A web browser's developer tools, also called DevTools, help web developers create, test, and debug websites.\n",
        "They are built into most modern browsers, including Google Chrome, Firefox etc.\n",
        "What do developer tools do\n",
        "\n",
        "\n",
        "*   Inspect code\n",
        "*   Debug\n",
        "*   Measure performance\n",
        "*   Optimize etc.\n",
        "4.  **What are the advantages of using a Version Control System like Git in a development project ?**\n",
        "- Using a version control system like Git in a development project can help with collaboration, debugging, and reviewing past work. It can also help with auditing and complianc\n",
        "5. **Compare and contrast a text editor and an IDE, highlighting their key features and uses ?**\n",
        "- A text editor is used to create and edit text files, while an IDE Integrated Development Environment is used to write, compile, and debug code. IDEs have more programming features than text editors.\n",
        "\n"
      ],
      "metadata": {
        "id": "kbhRY6PmuGJu"
      }
    },
    {
      "cell_type": "code",
      "execution_count": null,
      "metadata": {
        "id": "U_Fauswxt9DQ"
      },
      "outputs": [],
      "source": []
    }
  ]
}